{
 "cells": [
  {
   "cell_type": "code",
   "execution_count": null,
   "id": "42fafdda-9b10-4e2a-871f-e36a153ed85e",
   "metadata": {},
   "outputs": [],
   "source": [
    "import sys\n",
    "import os\n",
    "import colorsys\n",
    "\n",
    "import numpy as np\n",
    "import matplotlib.pyplot as plt\n",
    "import pycocotools.mask as rletools\n",
    "from tqdm.notebook import tqdm\n",
    "\n",
    "from PIL import Image\n",
    "from multiprocessing import Pool\n",
    "from mots_tools.mots_common.io import load_sequences, load_seqmap\n",
    "from mots_tools.mots_vis.visualize_mots import generate_colors\n",
    "from functools import partial\n",
    "from subprocess import call"
   ]
  },
  {
   "cell_type": "code",
   "execution_count": null,
   "id": "195b034a-b3da-435d-bb4c-b286ca794c61",
   "metadata": {},
   "outputs": [],
   "source": [
    "def process_sequence_2(seq_id, tracks_folder, img_folder, output_folder, max_frames, draw_boxes=False,\n",
    "                     create_video=True):\n",
    "    print(\"Processing sequence\", seq_id)\n",
    "    os.makedirs(output_folder + \"/\" + seq_id, exist_ok=True)\n",
    "    tracks = load_sequences(tracks_folder, [seq_id])[seq_id]\n",
    "    max_frames_seq = max_frames[seq_id]\n",
    "\n",
    "    if not os.path.exists(os.path.join(output_folder, 'sequences', seq_id)):\n",
    "        os.makedirs(os.path.join(output_folder, 'sequences', seq_id))\n",
    "    colors = generate_colors()\n",
    "    for t in range(max_frames_seq + 1):\n",
    "        # print(\"Processing frame\", t)\n",
    "        filename_t = img_folder + \"/\" + seq_id + \"/%06d\" % t\n",
    "        if os.path.exists(filename_t + \".png\"):\n",
    "            filename_t = filename_t + \".png\"\n",
    "        elif os.path.exists(filename_t + \".jpg\"):\n",
    "            filename_t = filename_t + \".jpg\"\n",
    "        else:\n",
    "            print(\"Image file not found for \" + filename_t + \".png/.jpg, continuing...\")\n",
    "            continue\n",
    "        img = np.array(Image.open(filename_t), dtype=\"float32\") / 255\n",
    "        # fig = plt.figure()\n",
    "        # fig.set_size_inches(img_sizes[1] / dpi, img_sizes[0] / dpi, forward=True)\n",
    "        # fig.subplots_adjust(left=0, bottom=0, right=1, top=1, wspace=None, hspace=None)\n",
    "        # ax = fig.subplots()\n",
    "        # ax.set_axis_off()\n",
    "\n",
    "        if t in tracks:\n",
    "            for obj in tracks[t]:\n",
    "                if not os.path.exists(os.path.join(output_folder, 'sequences', seq_id, str(obj.track_id))):\n",
    "                    os.makedirs(os.path.join(output_folder, 'sequences', seq_id, str(obj.track_id)))\n",
    "                color = colors[obj.track_id % len(colors)]\n",
    "                if obj.class_id == 1:\n",
    "                    category_name = \"Car\"\n",
    "                elif obj.class_id == 2:\n",
    "                    category_name = \"Pedestrian\"\n",
    "                else:\n",
    "                    category_name = \"Ignore\"\n",
    "                    color = (0.7, 0.7, 0.7)\n",
    "                if obj.class_id == 1 or obj.class_id == 2:  # Don't show boxes or ids for ignore regions\n",
    "                    x, y, w, h = map(int, rletools.toBbox(obj.mask))\n",
    "                    fig = plt.figure()\n",
    "                    ax = fig.subplots()\n",
    "                    ax.set_axis_off()\n",
    "                    ax.imshow(img[y:y+h,x:x+w])\n",
    "                    fig.savefig(os.path.join(output_folder, 'sequences', seq_id, str(obj.track_id), \"%06d\" % t + \".jpg\"))\n",
    "                # if obj.class_id == 1 or obj.class_id == 2:  # Don't show boxes or ids for ignore regions\n",
    "                #     x, y, w, h = rletools.toBbox(obj.mask)\n",
    "                #     if draw_boxes:\n",
    "                #         import matplotlib.patches as patches\n",
    "                #         rect = patches.Rectangle((x, y), w, h, linewidth=1,\n",
    "                #                                  edgecolor=color, facecolor='none', alpha=1.0)\n",
    "                #         ax.add_patch(rect)\n",
    "                #     category_name += \":\" + str(obj.track_id)\n",
    "                #     ax.annotate(category_name, (x + 0.5 * w, y + 0.5 * h), color=color, weight='bold',\n",
    "                #               fontsize=7, ha='center', va='center', alpha=1.0)\n",
    "                # binary_mask = rletools.decode(obj.mask)\n",
    "                # apply_mask(img, binary_mask, color)\n",
    "                    plt.close(fig)\n",
    "\n",
    "        # ax.imshow(img)\n",
    "        # fig.savefig(output_folder + \"/\" + seq_id + \"/%06d\" % t + \".jpg\")\n",
    "        # plt.close(fig)\n",
    "    # if create_video:\n",
    "    #     os.chdir(output_folder + \"/\" + seq_id)\n",
    "    #     call([\"ffmpeg\", \"-framerate\", \"10\", \"-y\", \"-i\", \"%06d.jpg\", \"-c:v\", \"libx264\", \"-profile:v\", \"high\", \"-crf\", \"20\",\n",
    "    #           \"-pix_fmt\", \"yuv420p\", \"-vf\", \"pad=\\'width=ceil(iw/2)*2:height=ceil(ih/2)*2\\'\", \"output.mp4\"])"
   ]
  },
  {
   "cell_type": "code",
   "execution_count": null,
   "id": "d022cbb3-255f-4f1d-8bae-50cb2355ce97",
   "metadata": {},
   "outputs": [],
   "source": [
    "tracks_folder = './kitti-mots/instances_txt'\n",
    "img_folder = './kitti-mots/data_tracking_image_2/training/image_02/'\n",
    "output_folder = './outputs'\n",
    "seqmap_filename = './kitti-mots/sequence_map.txt'\n",
    "\n",
    "seqmap, max_frames = load_seqmap(seqmap_filename)\n",
    "process_sequence_part = partial(process_sequence_2, max_frames=max_frames,\n",
    "                              tracks_folder=tracks_folder, img_folder=img_folder, output_folder=output_folder)\n",
    "\n",
    "with Pool(70) as pool:\n",
    "    pool.map(process_sequence_part, seqmap)\n",
    "    #for seq in seqmap:\n",
    "    #  process_sequence_part(seq)"
   ]
  },
  {
   "cell_type": "code",
   "execution_count": null,
   "id": "2e7cb330-dc77-42e3-bf87-2fac1e812527",
   "metadata": {},
   "outputs": [],
   "source": [
    "import open_clip\n",
    "import torch\n",
    "from PIL import Image"
   ]
  },
  {
   "cell_type": "code",
   "execution_count": null,
   "id": "34863dfc-18eb-4d30-a180-97df2308142a",
   "metadata": {},
   "outputs": [],
   "source": [
    "if torch.cuda.is_available():\n",
    "    device = torch.device('cuda:0')\n",
    "else:\n",
    "    device = torch.device('cpu')"
   ]
  },
  {
   "cell_type": "code",
   "execution_count": null,
   "id": "8c4ee566-cacd-4b31-b31a-80bebc94be50",
   "metadata": {},
   "outputs": [],
   "source": [
    "device"
   ]
  },
  {
   "cell_type": "code",
   "execution_count": null,
   "id": "3af63397-e503-459f-8f4d-def6801d5976",
   "metadata": {},
   "outputs": [],
   "source": [
    "model, _, preprocess = open_clip.create_model_and_transforms(\n",
    "    'ViT-B-32',\n",
    "    pretrained='laion2b_s34b_b79k',\n",
    "    device=device,\n",
    ")"
   ]
  },
  {
   "cell_type": "code",
   "execution_count": null,
   "id": "419a5611-2af5-48d0-a89f-7f26e424c65a",
   "metadata": {},
   "outputs": [],
   "source": [
    "def process_sequence_3(\n",
    "    seq_id, tracks_folder, img_folder, output_folder,\n",
    "    max_frames, draw_boxes=False, create_video=True,\n",
    "):\n",
    "    print(\"Processing sequence\", seq_id)\n",
    "    os.makedirs(output_folder + \"/\" + seq_id, exist_ok=True)\n",
    "    tracks = load_sequences(tracks_folder, [seq_id])[seq_id]\n",
    "    max_frames_seq = max_frames[seq_id]\n",
    "\n",
    "    assert os.path.exists(os.path.join(output_folder, 'sequences', seq_id))\n",
    "    if not os.path.exists(os.path.join(output_folder, 'features', seq_id)):\n",
    "        os.makedirs(os.path.join(output_folder, 'features', seq_id))\n",
    "    for t in tqdm(range(max_frames_seq + 1)):\n",
    "        # print(\"Processing frame\", t)\n",
    "\n",
    "        if t in tracks:\n",
    "            for obj in tracks[t]:\n",
    "                assert os.path.exists(os.path.join(output_folder, 'sequences', seq_id, str(obj.track_id)))\n",
    "                if not os.path.exists(os.path.join(output_folder, 'features', seq_id, str(obj.track_id))):\n",
    "                    os.makedirs(os.path.join(output_folder, 'features', seq_id, str(obj.track_id)))\n",
    "                if obj.class_id == 1 or obj.class_id == 2:  # Don't show boxes or ids for ignore regions\n",
    "                    img = Image.open(os.path.join(output_folder, 'sequences', seq_id, str(obj.track_id), \"%06d\" % t + \".jpg\"))\n",
    "                    image = preprocess(img).unsqueeze(0)\n",
    "                    with torch.no_grad(), torch.cuda.amp.autocast():\n",
    "                        image_features = model.encode_image(image.to(device))\n",
    "                        torch.save(\n",
    "                            image_features,\n",
    "                            os.path.join(\n",
    "                                output_folder,\n",
    "                                'features',\n",
    "                                seq_id,\n",
    "                                str(obj.track_id),\n",
    "                                \"%06d\" % t + \".pt\",\n",
    "                            )\n",
    "                        )\n"
   ]
  },
  {
   "cell_type": "code",
   "execution_count": null,
   "id": "30329c0e-c99c-4519-8e69-341d9eebcffb",
   "metadata": {},
   "outputs": [],
   "source": [
    "tracks_folder = './kitti-mots/instances_txt'\n",
    "img_folder = './kitti-mots/data_tracking_image_2/training/image_02/'\n",
    "output_folder = './outputs'\n",
    "seqmap_filename = './kitti-mots/sequence_map.txt'\n",
    "\n",
    "seqmap, max_frames = load_seqmap(seqmap_filename)\n",
    "process_sequence_part = partial(process_sequence_3, max_frames=max_frames,\n",
    "                              tracks_folder=tracks_folder, img_folder=img_folder, output_folder=output_folder)\n",
    "\n",
    "print('GPU:', torch.cuda.is_available())\n",
    "\n",
    "for seq in seqmap:\n",
    "    process_sequence_part(seq)"
   ]
  },
  {
   "cell_type": "code",
   "execution_count": null,
   "id": "88fbdfff-8e80-4c69-b3db-9a7acfd18c98",
   "metadata": {
    "editable": true,
    "slideshow": {
     "slide_type": ""
    },
    "tags": []
   },
   "outputs": [],
   "source": [
    "import pinecone"
   ]
  },
  {
   "cell_type": "code",
   "execution_count": null,
   "id": "0e026a8b-19d9-4e08-a496-e9bf45149915",
   "metadata": {},
   "outputs": [],
   "source": [
    "pinecone.init(api_key=os.environ[\"PINECONE_API\"], environment=\"gcp-starter\")"
   ]
  },
  {
   "cell_type": "code",
   "execution_count": null,
   "id": "666d82b4-e2f1-4002-bffe-fe8058b450aa",
   "metadata": {},
   "outputs": [],
   "source": [
    "pinecone.create_index"
   ]
  },
  {
   "cell_type": "code",
   "execution_count": null,
   "id": "5cbefbab-d668-4b1a-9e46-0c4b2b847064",
   "metadata": {},
   "outputs": [],
   "source": [
    "pinecone.create_index(\"tracks\", dimension=512, metric=\"euclidean\")\n",
    "# pinecone.describe_index(\"tracks\")"
   ]
  },
  {
   "cell_type": "code",
   "execution_count": null,
   "id": "e76b811d",
   "metadata": {},
   "outputs": [],
   "source": [
    "pinecone.describe_index('tracks')"
   ]
  },
  {
   "cell_type": "code",
   "execution_count": null,
   "id": "c3a479f5",
   "metadata": {},
   "outputs": [],
   "source": [
    "index = pinecone.Index('tracks')"
   ]
  },
  {
   "cell_type": "code",
   "execution_count": null,
   "id": "f622b796-632b-42cd-b374-33110aae5e83",
   "metadata": {},
   "outputs": [],
   "source": [
    "def flush(vectors, force=False):\n",
    "    if len(vectors) > 20 or (force and len(vectors) > 0):\n",
    "        index.upsert(\n",
    "            vectors=[\n",
    "                {\"id\": f\"{t}-{tid}\", \"values\": vector}\n",
    "                for tid, t, vector in vectors\n",
    "            ],\n",
    "            namespace=\"images\"\n",
    "        )\n",
    "        return []\n",
    "    return vectors\n",
    "\n",
    "\n",
    "def process_sequence_4(\n",
    "    seq_id, tracks_folder, img_folder, output_folder,\n",
    "    max_frames, draw_boxes=False, create_video=True,\n",
    "):\n",
    "    print(\"Processing sequence\", seq_id)\n",
    "    os.makedirs(output_folder + \"/\" + seq_id, exist_ok=True)\n",
    "    tracks = load_sequences(tracks_folder, [seq_id])[seq_id]\n",
    "    max_frames_seq = max_frames[seq_id]\n",
    "\n",
    "    vectors = []\n",
    "    assert os.path.exists(os.path.join(output_folder, 'features', seq_id))\n",
    "    for t in tqdm(range(max_frames_seq + 1)):\n",
    "        # print(\"Processing frame\", t)\n",
    "\n",
    "        if t in tracks:\n",
    "            for obj in tracks[t]:\n",
    "                assert os.path.exists(os.path.join(output_folder, 'features', seq_id, str(obj.track_id)))\n",
    "                if obj.class_id == 1 or obj.class_id == 2:  # Don't show boxes or ids for ignore regions\n",
    "                    with torch.no_grad(), torch.cuda.amp.autocast():\n",
    "                        features = torch.load(\n",
    "                            os.path.join(\n",
    "                                output_folder,\n",
    "                                'features',\n",
    "                                seq_id,\n",
    "                                str(obj.track_id),\n",
    "                                \"%06d\" % t + \".pt\",\n",
    "                            )\n",
    "                        )\n",
    "                        vectors.append((obj.track_id, t, features.reshape((-1,)).detach().cpu().tolist()))\n",
    "                        vectors = flush(vectors)\n",
    "    \n",
    "    flush(vectors, force=True)"
   ]
  },
  {
   "cell_type": "code",
   "execution_count": null,
   "id": "6ae4c2f0",
   "metadata": {},
   "outputs": [],
   "source": [
    "tracks_folder = '/code/kitti-mots/instances_txt'\n",
    "img_folder = '/code/kitti-mots/data_tracking_image_2/training/image_02/'\n",
    "output_folder = '/code/outputs'\n",
    "seqmap_filename = '/code/kitti-mots/sequence_map.txt'\n",
    "\n",
    "seqmap, max_frames = load_seqmap(seqmap_filename)\n",
    "process_sequence_part = partial(process_sequence_4, max_frames=max_frames,\n",
    "                              tracks_folder=tracks_folder, img_folder=img_folder, output_folder=output_folder)\n",
    "\n",
    "print('GPU:', torch.cuda.is_available())\n",
    "\n",
    "for seq in seqmap:\n",
    "    process_sequence_part(seq)"
   ]
  },
  {
   "cell_type": "code",
   "execution_count": null,
   "id": "fafcb18a",
   "metadata": {},
   "outputs": [],
   "source": [
    "vec = torch.load('/code/outputs/features/0020/1012/000184.pt')"
   ]
  },
  {
   "cell_type": "code",
   "execution_count": null,
   "id": "fa1bc435",
   "metadata": {},
   "outputs": [],
   "source": [
    "_vec = vec.reshape((-1,)).cpu().tolist()"
   ]
  },
  {
   "cell_type": "code",
   "execution_count": null,
   "id": "9e770e84",
   "metadata": {},
   "outputs": [],
   "source": [
    "index.query(\n",
    "  namespace=\"images\",\n",
    "  vector=_vec,\n",
    "  top_k=20,\n",
    "  include_value=False\n",
    ")"
   ]
  },
  {
   "cell_type": "code",
   "execution_count": null,
   "id": "f5a62e62",
   "metadata": {},
   "outputs": [],
   "source": []
  }
 ],
 "metadata": {
  "kernelspec": {
   "display_name": "Python 3 (ipykernel)",
   "language": "python",
   "name": "python3"
  },
  "language_info": {
   "codemirror_mode": {
    "name": "ipython",
    "version": 3
   },
   "file_extension": ".py",
   "mimetype": "text/x-python",
   "name": "python",
   "nbconvert_exporter": "python",
   "pygments_lexer": "ipython3",
   "version": "3.11.7"
  }
 },
 "nbformat": 4,
 "nbformat_minor": 5
}
